{
 "cells": [
  {
   "cell_type": "markdown",
   "metadata": {},
   "source": [
    "Mariah Wear Jan 17, 2019"
   ]
  },
  {
   "cell_type": "markdown",
   "metadata": {},
   "source": [
    "$\\alpha = \\Delta L L^{-1} \\Delta T ^{-1} $"
   ]
  },
  {
   "cell_type": "code",
   "execution_count": 1,
   "metadata": {},
   "outputs": [
    {
     "name": "stdout",
     "output_type": "stream",
     "text": [
      "0.31622776601683794\n"
     ]
    }
   ],
   "source": [
    "import numpy as np\n",
    "\n",
    "def rule3(errA,errB):\n",
    "    errQ = np.sqrt(errA**2+errB**2)\n",
    "    return errQ\n",
    "\n",
    "errT_i = 0.3 #degC\n",
    "errT_f = 0.1 #degC\n",
    "\n",
    "err_Delta_T = rule3(errT_i,errT_f)\n",
    "\n",
    "print(err_Delta_T)"
   ]
  },
  {
   "cell_type": "code",
   "execution_count": 17,
   "metadata": {},
   "outputs": [
    {
     "name": "stdout",
     "output_type": "stream",
     "text": [
      "1.5213857693904342e-07\n",
      "1.3782647646612915e-05\n",
      "69.1\n"
     ]
    }
   ],
   "source": [
    "def rule4(errA,A,m,errB,B,n,errC,C,o):\n",
    "    errQ = Q*np.sqrt((m*(errA/A))**2+((n*(errB/B))**2)+((o*(errC/C))**2))\n",
    "    return errQ\n",
    "\n",
    "DelL = .001 #m\n",
    "errDelL = .00001 #m\n",
    "m = 1\n",
    "L = 1.05 #m\n",
    "errL = .001 #mm\n",
    "n = -1\n",
    "Ti = 23.4 #degC\n",
    "Tf = 92.5 #degC\n",
    "DelT = (Tf - Ti)\n",
    "errDelT = .3162\n",
    "o = -1\n",
    "Q = DelL*L**-1*DelT**-1\n",
    "\n",
    "err_Delta_Q = rule4(errDelL,DelL,m,errL,L,n,errDelT,DelT,o)\n",
    "\n",
    "print(err_Delta_Q)\n",
    "print (Q)\n",
    "print (DelT)"
   ]
  },
  {
   "cell_type": "code",
   "execution_count": null,
   "metadata": {},
   "outputs": [],
   "source": []
  },
  {
   "cell_type": "code",
   "execution_count": null,
   "metadata": {},
   "outputs": [],
   "source": []
  }
 ],
 "metadata": {
  "kernelspec": {
   "display_name": "Python 3",
   "language": "python",
   "name": "python3"
  },
  "language_info": {
   "codemirror_mode": {
    "name": "ipython",
    "version": 3
   },
   "file_extension": ".py",
   "mimetype": "text/x-python",
   "name": "python",
   "nbconvert_exporter": "python",
   "pygments_lexer": "ipython3",
   "version": "3.7.1"
  }
 },
 "nbformat": 4,
 "nbformat_minor": 2
}
