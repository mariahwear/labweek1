{
 "cells": [
  {
   "cell_type": "markdown",
   "metadata": {},
   "source": [
    "Mariah Wear\n",
    "January 17, 2019\n",
    "Functions Exercise"
   ]
  },
  {
   "cell_type": "markdown",
   "metadata": {},
   "source": [
    "# Python Functions, Arrays"
   ]
  },
  {
   "cell_type": "code",
   "execution_count": null,
   "metadata": {},
   "outputs": [],
   "source": [
    "import numpy as np"
   ]
  },
  {
   "cell_type": "markdown",
   "metadata": {},
   "source": [
    "first, create a function. For the equation for total energy: $TE=1/2mv^2+mgh$"
   ]
  },
  {
   "cell_type": "markdown",
   "metadata": {},
   "source": [
    "$TE=1/2mv^2+mgh$"
   ]
  },
  {
   "cell_type": "markdown",
   "metadata": {},
   "source": [
    "$TE = \\frac{1}{2}mv^2+mgh$"
   ]
  },
  {
   "cell_type": "markdown",
   "metadata": {},
   "source": [
    "$\\alpha \\theta \\Delta \\Sigma \\sigma$"
   ]
  },
  {
   "cell_type": "code",
   "execution_count": 9,
   "metadata": {},
   "outputs": [],
   "source": [
    "def total_E(m,v,h):\n",
    "    TE = 1/2*m*v**2 + m*9.8*h\n",
    "    return TE\n"
   ]
  },
  {
   "cell_type": "code",
   "execution_count": 13,
   "metadata": {},
   "outputs": [
    {
     "name": "stdout",
     "output_type": "stream",
     "text": [
      "Total Energy =  242.54999999999998 Joules\n"
     ]
    }
   ],
   "source": [
    "mass = 1.2 #kg\n",
    "vel = 3.5 #m/s\n",
    "height = 20 #m\n",
    "\n",
    "total_energy = total_E(mass,vel,height)\n",
    "print (\"Total Energy = \",total_energy, \"Joules\")"
   ]
  },
  {
   "cell_type": "code",
   "execution_count": 14,
   "metadata": {},
   "outputs": [
    {
     "name": "stdout",
     "output_type": "stream",
     "text": [
      "[ 2 48 10 22 68]\n"
     ]
    }
   ],
   "source": [
    "mass_array = np.array([1,24,5,11,34])\n",
    "vel_array = np.array([56.4,3.2,5.4,8,1])\n",
    "height_array = np.array([23,1,45,22,67])\n",
    "\n",
    "dbl_mass = 2*mass_array\n",
    "print(dbl_mass)"
   ]
  },
  {
   "cell_type": "code",
   "execution_count": 15,
   "metadata": {},
   "outputs": [
    {
     "name": "stdout",
     "output_type": "stream",
     "text": [
      "[ 1815.88   358.08  2277.9   2723.6  22341.4 ]\n"
     ]
    }
   ],
   "source": [
    "total_e_array = total_E(mass_array,vel_array,height_array)\n",
    "print(total_e_array)"
   ]
  },
  {
   "cell_type": "code",
   "execution_count": null,
   "metadata": {},
   "outputs": [],
   "source": []
  }
 ],
 "metadata": {
  "kernelspec": {
   "display_name": "Python 3",
   "language": "python",
   "name": "python3"
  },
  "language_info": {
   "codemirror_mode": {
    "name": "ipython",
    "version": 3
   },
   "file_extension": ".py",
   "mimetype": "text/x-python",
   "name": "python",
   "nbconvert_exporter": "python",
   "pygments_lexer": "ipython3",
   "version": "3.7.1"
  }
 },
 "nbformat": 4,
 "nbformat_minor": 2
}
